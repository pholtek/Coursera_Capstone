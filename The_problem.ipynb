{
 "cells": [
  {
   "cell_type": "markdown",
   "metadata": {},
   "source": [
    "# Coursera Capstone Project: \n",
    "==========================================\n",
    "# Finding the best spot for opening a beer hall in Berlin, Germany\n",
    "========================================================================================"
   ]
  },
  {
   "cell_type": "markdown",
   "metadata": {},
   "source": [
    " "
   ]
  },
  {
   "cell_type": "markdown",
   "metadata": {},
   "source": [
    "## Description of the problem"
   ]
  },
  {
   "cell_type": "markdown",
   "metadata": {},
   "source": [
    "The city of Berlin, located in the North-East of Germany, EU, is a fast growing, modern city with diverse neighbourhoods. In recent years, more and more internationals moved into the city. Those individuals are usually fascinated by the bustling yet clean city. With all the diverse and international experience they make there, a surprising fact becomes clear: A traditional german experience is hard to find. That keeps the folk wondering where to find the best beers in a cozy beer hall. Sad and disappointed by the fact that there is no such thing in the city, people go and visit the usual cocktail bars, spending evenings with people yet feeling a deep loneliness in the face of the cold world around them. The obvious cure for such desperation is of course a warm, social beer hall. \n",
    "\n",
    "In this project, an attempt is made to analyze the neighbourhoods in Berlin to find the best spot for such a beer hall. This will be achieved by scraping the web for a summary of Berlin neighbourhoods and boroughs, cleaning and saving the data in a python.pandas DataFrame object. Foursquare and other data sources will be used to assign each neighbourhood a profile including several factors such as population composition, economic data etc., that then will be used to get clusters of similar neighbourhoods in the city. Additionally the most popular bar locations will be determined. As opening another bar in a bar-dense neighbourhood is probably not too profitable due to the high amount of competition, the neighbourhood with the lowest bar density in the cluster of the high bar density neighbourhood will be chosen as the potentially most profitable location to open a beer hall. "
   ]
  },
  {
   "cell_type": "code",
   "execution_count": null,
   "metadata": {},
   "outputs": [],
   "source": []
  }
 ],
 "metadata": {
  "kernelspec": {
   "display_name": "Python 3",
   "language": "python",
   "name": "python3"
  },
  "language_info": {
   "codemirror_mode": {
    "name": "ipython",
    "version": 3
   },
   "file_extension": ".py",
   "mimetype": "text/x-python",
   "name": "python",
   "nbconvert_exporter": "python",
   "pygments_lexer": "ipython3",
   "version": "3.7.3"
  }
 },
 "nbformat": 4,
 "nbformat_minor": 2
}
