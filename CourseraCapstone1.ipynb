{
 "cells": [
  {
   "cell_type": "code",
   "execution_count": 258,
   "metadata": {},
   "outputs": [],
   "source": [
    "import numpy as np\n",
    "import pandas as pd\n",
    "import urllib.request\n",
    "from bs4 import BeautifulSoup as bs"
   ]
  },
  {
   "cell_type": "markdown",
   "metadata": {},
   "source": [
    "### Here, the HTML file of the given URL will be extracted"
   ]
  },
  {
   "cell_type": "code",
   "execution_count": 259,
   "metadata": {},
   "outputs": [],
   "source": [
    "with urllib.request.urlopen(\"https://en.wikipedia.org/wiki/List_of_postal_codes_of_Canada:_M\") as website:\n",
    "    url_file = website.read()\n",
    "    html_file1 = url_file.decode(\"utf8\")\n",
    "    html_file2 = bs(html_file1,'lxml')"
   ]
  },
  {
   "cell_type": "markdown",
   "metadata": {},
   "source": [
    "### Loop over the elements in the table, filling the Pandas Data Frame"
   ]
  },
  {
   "cell_type": "code",
   "execution_count": 260,
   "metadata": {},
   "outputs": [],
   "source": [
    "data = pd.DataFrame({\"PostalCode\":[], \n",
    "                     \"Borough\":[],\n",
    "                     \"Neighbourhood\":[]})\n",
    "for element in html_file2.find_all('tr'):\n",
    "    e = element.text.splitlines()\n",
    "    if len(e) == 4:\n",
    "        data_line = pd.DataFrame({\"PostalCode\":[e[1]], \n",
    "                                  \"Borough\":[e[2]],\n",
    "                                  \"Neighbourhood\":[e[3]]})\n",
    "        data = data.append(data_line)"
   ]
  },
  {
   "cell_type": "markdown",
   "metadata": {},
   "source": [
    "### Cleaning the data (First row and 'Not assigned' borough rows deleted, 'Not assigned' neighbourhood = it's borough"
   ]
  },
  {
   "cell_type": "code",
   "execution_count": 261,
   "metadata": {},
   "outputs": [],
   "source": [
    "# cleaning the data\n",
    "data = data[data.PostalCode != 'Postcode']\n",
    "data = data[data.Borough != 'Not assigned']\n",
    "foo = lambda a: \", \".join(a)\n",
    "data = data.groupby(['PostalCode'], as_index=False).agg({'Borough': 'min','Neighbourhood': foo}).reset_index(drop=True)\n",
    "ind = data[data.Neighbourhood == 'Not assigned'].index.tolist()[0]\n",
    "data.loc[ind]['Neighbourhood'] = data.loc[ind]['Borough']"
   ]
  },
  {
   "cell_type": "code",
   "execution_count": 262,
   "metadata": {},
   "outputs": [
    {
     "data": {
      "text/plain": [
       "(103, 3)"
      ]
     },
     "execution_count": 262,
     "metadata": {},
     "output_type": "execute_result"
    }
   ],
   "source": [
    "data.shape"
   ]
  },
  {
   "cell_type": "code",
   "execution_count": null,
   "metadata": {},
   "outputs": [],
   "source": []
  }
 ],
 "metadata": {
  "kernelspec": {
   "display_name": "Python 3",
   "language": "python",
   "name": "python3"
  },
  "language_info": {
   "codemirror_mode": {
    "name": "ipython",
    "version": 3
   },
   "file_extension": ".py",
   "mimetype": "text/x-python",
   "name": "python",
   "nbconvert_exporter": "python",
   "pygments_lexer": "ipython3",
   "version": "3.7.3"
  }
 },
 "nbformat": 4,
 "nbformat_minor": 2
}
