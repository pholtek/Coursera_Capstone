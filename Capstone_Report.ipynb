{
 "cells": [
  {
   "cell_type": "code",
   "execution_count": 23,
   "metadata": {},
   "outputs": [],
   "source": [
    "import numpy as np\n",
    "import pandas as pd\n",
    "import urllib.request\n",
    "import math\n",
    "from bs4 import BeautifulSoup as bs\n",
    "import json\n",
    "import matplotlib.pyplot as plt\n",
    "import matplotlib.cm as cm\n",
    "import matplotlib.colors as colors\n",
    "from sklearn.cluster import KMeans\n",
    "import folium\n",
    "from geopy.geocoders import Nominatim\n",
    "import requests\n",
    "from pandas.io.json import json_normalize\n",
    "import numpy as np\n",
    "from scipy.optimize import curve_fit"
   ]
  },
  {
   "cell_type": "markdown",
   "metadata": {},
   "source": [
    "#### importing the relevant data and integrating it into a pandas DataFrame"
   ]
  },
  {
   "cell_type": "code",
   "execution_count": 3,
   "metadata": {},
   "outputs": [],
   "source": [
    "with urllib.request.urlopen(\"https://en.wikipedia.org/wiki/Boroughs_and_neighborhoods_of_Berlin\") as website:\n",
    "    url_file = website.read()\n",
    "    html_file1 = url_file.decode(\"utf8\")\n",
    "    html_file2 = bs(html_file1,'lxml')"
   ]
  },
  {
   "cell_type": "code",
   "execution_count": 4,
   "metadata": {},
   "outputs": [],
   "source": [
    "Borough = pd.DataFrame({\"Borough\":[]})\n",
    "Population = pd.DataFrame({\"Population\":[]})\n",
    "Area = pd.DataFrame({\"Area\":[]})\n",
    "Density = pd.DataFrame({\"Density\":[]})\n",
    "\n",
    "borough_data = html_file2.tbody.text.splitlines()\n",
    "borough_data.remove('Borough')\n",
    "borough_data.remove('Population 31 March 2010')\n",
    "borough_data.remove('Area in km²')\n",
    "borough_data.remove('Density per km²')\n",
    "borough_data.remove('Map')\n",
    "\n",
    "clean_borough_data = []\n",
    "for element in borough_data:\n",
    "    if len(element) != 0:\n",
    "        clean_borough_data.append(element)\n",
    "        \n",
    "counter = 0\n",
    "for element in clean_borough_data:\n",
    "    if counter % 4 == 0:\n",
    "        element = pd.DataFrame({\"Borough\":[element]})\n",
    "        Borough = Borough.append(element)\n",
    "    if counter % 4 == 1:\n",
    "        element = pd.DataFrame({\"Population\":[element]})\n",
    "        Population = Population.append(element)\n",
    "    if counter % 4 == 2:\n",
    "        element = pd.DataFrame({\"Area\":[element]})\n",
    "        Area = Area.append(element)\n",
    "    if counter % 4 == 3:\n",
    "        element = pd.DataFrame({\"Density\":[element]})\n",
    "        Density = Density.append(element)\n",
    "    counter = counter + 1\n",
    "\n",
    "data = pd.concat([Borough,Population,Area,Density],axis=1)\n",
    "\n",
    "for i in range(len(data.iloc[:,1].tolist())):\n",
    "    data.iloc[i,1] = float(data.iloc[i,1].replace(',',''))\n",
    "    data.iloc[i,2] = float(data.iloc[i,2])\n",
    "    data.iloc[i,3] = float(data.iloc[i,3].replace(',',''))\n",
    "data = data.reset_index(drop=True)"
   ]
  },
  {
   "cell_type": "markdown",
   "metadata": {},
   "source": [
    "#### further data import and cleaning of the relevant data"
   ]
  },
  {
   "cell_type": "code",
   "execution_count": 5,
   "metadata": {},
   "outputs": [],
   "source": [
    "longlat = pd.DataFrame({\"Latitude\":[52.500000,52.499567,52.534306,52.522935,52.530644,52.483333,52.592879,52.566667,52.534080,52.430884,52.472160,52.450000],\n",
    "                        \"Longitude\": [13.283333,13.431419,13.502326,13.576597,13.383068,13.450000,13.431700,13.333333,13.181716,13.192662,13.370287,13.566667]})\n",
    "data = pd.concat([data,longlat],axis=1)"
   ]
  },
  {
   "cell_type": "code",
   "execution_count": 50,
   "metadata": {},
   "outputs": [],
   "source": [
    "Prices = [11.23,11.91,9.10,7.34,11.83,9.83,10.06,8.62,7.95,9.80,9.70,8.98]\n",
    "Taxes = [2921,1381,284,242,1672,541,739,2150,398,1502,929,428]\n",
    "Prices = np.asarray(Prices)\n",
    "Taxes = np.asarray(Taxes)"
   ]
  },
  {
   "cell_type": "markdown",
   "metadata": {},
   "source": [
    "#### for building a model, the prices are fitted over the average income taxes payed"
   ]
  },
  {
   "cell_type": "code",
   "execution_count": 51,
   "metadata": {},
   "outputs": [
    {
     "data": {
      "text/plain": [
       "[<matplotlib.lines.Line2D at 0xfaf35078d0>]"
      ]
     },
     "execution_count": 51,
     "metadata": {},
     "output_type": "execute_result"
    },
    {
     "data": {
      "image/png": "[encoded data removed]",
      "text/plain": [
       "<Figure size 432x288 with 1 Axes>"
      ]
     },
     "metadata": {
      "needs_background": "light"
     },
     "output_type": "display_data"
    }
   ],
   "source": [
    "plt.plot(Prices,Taxes,'.')"
   ]
  },
  {
   "cell_type": "code",
   "execution_count": 52,
   "metadata": {},
   "outputs": [],
   "source": [
    "def expo(x, a, b):\n",
    "    return a * np.exp(x) + b"
   ]
  },
  {
   "cell_type": "code",
   "execution_count": 53,
   "metadata": {},
   "outputs": [],
   "source": [
    "popt, pcov = curve_fit(expo, Prices, Taxes)"
   ]
  },
  {
   "cell_type": "code",
   "execution_count": 62,
   "metadata": {},
   "outputs": [
    {
     "data": {
      "text/plain": [
       "[<matplotlib.lines.Line2D at 0xfaf3a33358>]"
      ]
     },
     "execution_count": 62,
     "metadata": {},
     "output_type": "execute_result"
    },
    {
     "data": {
      "image/png": "[encoded data removed]",
      "text/plain": [
       "<Figure size 432x288 with 1 Axes>"
      ]
     },
     "metadata": {
      "needs_background": "light"
     },
     "output_type": "display_data"
    }
   ],
   "source": [
    "xfine = np.linspace(7., 12., 100)\n",
    "plt.plot(xfine, expo(xfine, popt[0], popt[1]), 'r-')\n",
    "plt.plot(Prices,Taxes,'.')"
   ]
  },
  {
   "cell_type": "markdown",
   "metadata": {},
   "source": [
    "#### location data is obtained and a rough exploratory data analysis is performed"
   ]
  },
  {
   "cell_type": "code",
   "execution_count": 7,
   "metadata": {},
   "outputs": [
    {
     "name": "stdout",
     "output_type": "stream",
     "text": [
      "The geograpical coordinate of Berlin are 52.5170365, 13.3888599.\n"
     ]
    },
    {
     "data": {
      "text/html": [
       "<div>\n",
       "<style scoped>\n",
       "    .dataframe tbody tr th:only-of-type {\n",
       "        vertical-align: middle;\n",
       "    }\n",
       "\n",
       "    .dataframe tbody tr th {\n",
       "        vertical-align: top;\n",
       "    }\n",
       "\n",
       "    .dataframe thead th {\n",
       "        text-align: right;\n",
       "    }\n",
       "</style>\n",
       "<table border=\"1\" class=\"dataframe\">\n",
       "  <thead>\n",
       "    <tr style=\"text-align: right;\">\n",
       "      <th></th>\n",
       "      <th>Borough</th>\n",
       "      <th>Population</th>\n",
       "      <th>Area</th>\n",
       "      <th>Density</th>\n",
       "      <th>Latitude</th>\n",
       "      <th>Longitude</th>\n",
       "    </tr>\n",
       "  </thead>\n",
       "  <tbody>\n",
       "    <tr>\n",
       "      <th>0</th>\n",
       "      <td>Charlottenburg-Wilmersdorf</td>\n",
       "      <td>319628</td>\n",
       "      <td>64.72</td>\n",
       "      <td>4878</td>\n",
       "      <td>52.500000</td>\n",
       "      <td>13.283333</td>\n",
       "    </tr>\n",
       "    <tr>\n",
       "      <th>1</th>\n",
       "      <td>Friedrichshain-Kreuzberg</td>\n",
       "      <td>268225</td>\n",
       "      <td>20.16</td>\n",
       "      <td>13187</td>\n",
       "      <td>52.499567</td>\n",
       "      <td>13.431419</td>\n",
       "    </tr>\n",
       "    <tr>\n",
       "      <th>2</th>\n",
       "      <td>Lichtenberg</td>\n",
       "      <td>259881</td>\n",
       "      <td>52.29</td>\n",
       "      <td>4952</td>\n",
       "      <td>52.534306</td>\n",
       "      <td>13.502326</td>\n",
       "    </tr>\n",
       "    <tr>\n",
       "      <th>3</th>\n",
       "      <td>Marzahn-Hellersdorf</td>\n",
       "      <td>248264</td>\n",
       "      <td>61.74</td>\n",
       "      <td>4046</td>\n",
       "      <td>52.522935</td>\n",
       "      <td>13.576597</td>\n",
       "    </tr>\n",
       "    <tr>\n",
       "      <th>4</th>\n",
       "      <td>Mitte</td>\n",
       "      <td>332919</td>\n",
       "      <td>39.47</td>\n",
       "      <td>8272</td>\n",
       "      <td>52.530644</td>\n",
       "      <td>13.383068</td>\n",
       "    </tr>\n",
       "    <tr>\n",
       "      <th>5</th>\n",
       "      <td>Neukölln</td>\n",
       "      <td>310283</td>\n",
       "      <td>44.93</td>\n",
       "      <td>6804</td>\n",
       "      <td>52.483333</td>\n",
       "      <td>13.450000</td>\n",
       "    </tr>\n",
       "    <tr>\n",
       "      <th>6</th>\n",
       "      <td>Pankow</td>\n",
       "      <td>366441</td>\n",
       "      <td>103.01</td>\n",
       "      <td>3476</td>\n",
       "      <td>52.592879</td>\n",
       "      <td>13.431700</td>\n",
       "    </tr>\n",
       "    <tr>\n",
       "      <th>7</th>\n",
       "      <td>Reinickendorf</td>\n",
       "      <td>240454</td>\n",
       "      <td>89.46</td>\n",
       "      <td>2712</td>\n",
       "      <td>52.566667</td>\n",
       "      <td>13.333333</td>\n",
       "    </tr>\n",
       "    <tr>\n",
       "      <th>8</th>\n",
       "      <td>Spandau</td>\n",
       "      <td>223962</td>\n",
       "      <td>91.91</td>\n",
       "      <td>2441</td>\n",
       "      <td>52.534080</td>\n",
       "      <td>13.181716</td>\n",
       "    </tr>\n",
       "    <tr>\n",
       "      <th>9</th>\n",
       "      <td>Steglitz-Zehlendorf</td>\n",
       "      <td>293989</td>\n",
       "      <td>102.5</td>\n",
       "      <td>2818</td>\n",
       "      <td>52.430884</td>\n",
       "      <td>13.192662</td>\n",
       "    </tr>\n",
       "    <tr>\n",
       "      <th>10</th>\n",
       "      <td>Tempelhof-Schöneberg</td>\n",
       "      <td>335060</td>\n",
       "      <td>53.09</td>\n",
       "      <td>6256</td>\n",
       "      <td>52.472160</td>\n",
       "      <td>13.370287</td>\n",
       "    </tr>\n",
       "    <tr>\n",
       "      <th>11</th>\n",
       "      <td>Treptow-Köpenick</td>\n",
       "      <td>241335</td>\n",
       "      <td>168.42</td>\n",
       "      <td>1406</td>\n",
       "      <td>52.450000</td>\n",
       "      <td>13.566667</td>\n",
       "    </tr>\n",
       "  </tbody>\n",
       "</table>\n",
       "</div>"
      ],
      "text/plain": [
       "                       Borough Population    Area Density   Latitude  \\\n",
       "0   Charlottenburg-Wilmersdorf     319628   64.72    4878  52.500000   \n",
       "1     Friedrichshain-Kreuzberg     268225   20.16   13187  52.499567   \n",
       "2                  Lichtenberg     259881   52.29    4952  52.534306   \n",
       "3          Marzahn-Hellersdorf     248264   61.74    4046  52.522935   \n",
       "4                        Mitte     332919   39.47    8272  52.530644   \n",
       "5                     Neukölln     310283   44.93    6804  52.483333   \n",
       "6                       Pankow     366441  103.01    3476  52.592879   \n",
       "7                Reinickendorf     240454   89.46    2712  52.566667   \n",
       "8                      Spandau     223962   91.91    2441  52.534080   \n",
       "9          Steglitz-Zehlendorf     293989   102.5    2818  52.430884   \n",
       "10        Tempelhof-Schöneberg     335060   53.09    6256  52.472160   \n",
       "11            Treptow-Köpenick     241335  168.42    1406  52.450000   \n",
       "\n",
       "    Longitude  \n",
       "0   13.283333  \n",
       "1   13.431419  \n",
       "2   13.502326  \n",
       "3   13.576597  \n",
       "4   13.383068  \n",
       "5   13.450000  \n",
       "6   13.431700  \n",
       "7   13.333333  \n",
       "8   13.181716  \n",
       "9   13.192662  \n",
       "10  13.370287  \n",
       "11  13.566667  "
      ]
     },
     "execution_count": 7,
     "metadata": {},
     "output_type": "execute_result"
    }
   ],
   "source": [
    "address = 'Berlin, DE'\n",
    "\n",
    "geolocator = Nominatim(user_agent=\"to_explorer\")\n",
    "location = geolocator.geocode(address)\n",
    "latitude = location.latitude\n",
    "longitude = location.longitude\n",
    "print('The geograpical coordinate of Berlin are {}, {}.'.format(latitude, longitude))\n",
    "data"
   ]
  },
  {
   "cell_type": "markdown",
   "metadata": {},
   "source": [
    "#### plotting the different borough location on a map of Berlin"
   ]
  },
  {
   "cell_type": "code",
   "execution_count": 8,
   "metadata": {},
   "outputs": [
    {
     "data": {
      "text/html": [
       "<div style=\"width:100%;\"><div style=\"position:relative;width:100%;height:0;padding-bottom:60%;\"><iframe src=\"data:text/html;charset=utf-8;base64,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\" style=\"position:absolute;width:100%;height:100%;left:0;top:0;border:none !important;\" allowfullscreen webkitallowfullscreen mozallowfullscreen></iframe></div></div>"
      ],
      "text/plain": [
       "<folium.folium.Map at 0xfaf3652128>"
      ]
     },
     "execution_count": 8,
     "metadata": {},
     "output_type": "execute_result"
    }
   ],
   "source": [
    "# create map of Berlin using latitude and longitude values\n",
    "map_berlin = folium.Map(location=[latitude, longitude], zoom_start=11)\n",
    "\n",
    "# add markers to map\n",
    "for lat, lng, borough in zip(data['Latitude'], data['Longitude'], data['Borough']):\n",
    "    label = '{}'.format(borough)\n",
    "    label = folium.Popup(label, parse_html=True)\n",
    "    folium.CircleMarker(\n",
    "        [lat, lng],\n",
    "        radius=5,\n",
    "        popup=label,\n",
    "        color='blue',\n",
    "        fill=True,\n",
    "        fill_color='#3186cc',\n",
    "        fill_opacity=0.7,\n",
    "        parse_html=False).add_to(map_berlin)  \n",
    "    \n",
    "map_berlin"
   ]
  },
  {
   "cell_type": "code",
   "execution_count": 9,
   "metadata": {},
   "outputs": [
    {
     "name": "stdout",
     "output_type": "stream",
     "text": [
      "Your credentails:\n",
      "CLIENT_ID: 4EUVVAV2J3UK3KFZFPO4RU5ISK3HXZ0UAL2YMJH0ELMSUXCL\n",
      "CLIENT_SECRET:C31ALBIDB1D3DHBT5T4IXDPDHNJNMSJ3AYQAL1KCQCZPPWCQ\n"
     ]
    }
   ],
   "source": [
    "CLIENT_ID = '4EUVVAV2J3UK3KFZFPO4RU5ISK3HXZ0UAL2YMJH0ELMSUXCL' # your Foursquare ID\n",
    "CLIENT_SECRET = 'C31ALBIDB1D3DHBT5T4IXDPDHNJNMSJ3AYQAL1KCQCZPPWCQ' # your Foursquare Secret\n",
    "VERSION = '20190409' # Foursquare API version\n",
    "\n",
    "print('Your credentails:')\n",
    "print('CLIENT_ID: ' + CLIENT_ID)\n",
    "print('CLIENT_SECRET:' + CLIENT_SECRET)"
   ]
  },
  {
   "cell_type": "markdown",
   "metadata": {},
   "source": [
    "#### finding the most popular venues in each borough"
   ]
  },
  {
   "cell_type": "code",
   "execution_count": 10,
   "metadata": {},
   "outputs": [],
   "source": [
    "radius = 500 # define radius\n",
    "LIMIT = 100\n",
    "def getNearbyVenues(names, latitudes, longitudes, radius=500):\n",
    "    \n",
    "    venues_list=[]\n",
    "    for name, lat, lng in zip(names, latitudes, longitudes):\n",
    "        print(name)\n",
    "            \n",
    "        # create the API request URL\n",
    "        url = 'https://api.foursquare.com/v2/venues/explore?&client_id={}&client_secret={}&v={}&ll={},{}&radius={}&limit={}'.format(\n",
    "            CLIENT_ID, \n",
    "            CLIENT_SECRET, \n",
    "            VERSION, \n",
    "            lat, \n",
    "            lng, \n",
    "            radius, \n",
    "            LIMIT)\n",
    "            \n",
    "        # make the GET request\n",
    "        results = requests.get(url).json()[\"response\"]['groups'][0]['items']\n",
    "        \n",
    "        # return only relevant information for each nearby venue\n",
    "        venues_list.append([(\n",
    "            name, \n",
    "            lat, \n",
    "            lng, \n",
    "            v['venue']['name'], \n",
    "            v['venue']['location']['lat'], \n",
    "            v['venue']['location']['lng'],  \n",
    "            v['venue']['categories'][0]['name']) for v in results])\n",
    "\n",
    "    nearby_venues = pd.DataFrame([item for venue_list in venues_list for item in venue_list])\n",
    "    nearby_venues.columns = ['Borough', \n",
    "                  'Borough Latitude', \n",
    "                  'Borough Longitude', \n",
    "                  'Venue', \n",
    "                  'Venue Latitude', \n",
    "                  'Venue Longitude', \n",
    "                  'Venue Category']\n",
    "    \n",
    "    return(nearby_venues)"
   ]
  },
  {
   "cell_type": "code",
   "execution_count": 211,
   "metadata": {},
   "outputs": [
    {
     "name": "stdout",
     "output_type": "stream",
     "text": [
      "Charlottenburg-Wilmersdorf\n",
      "Friedrichshain-Kreuzberg\n",
      "Lichtenberg\n",
      "Marzahn-Hellersdorf\n",
      "Mitte\n",
      "Neukölln\n",
      "Pankow\n",
      "Reinickendorf\n",
      "Spandau\n",
      "Steglitz-Zehlendorf\n",
      "Tempelhof-Schöneberg\n",
      "Treptow-Köpenick\n"
     ]
    }
   ],
   "source": [
    "berlin_venues = getNearbyVenues(names=data['Borough'],\n",
    "                                   latitudes=data['Latitude'],\n",
    "                                   longitudes=data['Longitude']\n",
    "                                  )"
   ]
  },
  {
   "cell_type": "code",
   "execution_count": 212,
   "metadata": {},
   "outputs": [],
   "source": [
    "# one hot encoding\n",
    "berlin_onehot = pd.get_dummies(berlin_venues[['Venue Category']], prefix=\"\", prefix_sep=\"\")\n",
    "\n",
    "# add neighborhood column back to dataframe\n",
    "berlin_onehot['Borough'] = berlin_venues['Borough'] \n",
    "\n",
    "# move neighborhood column to the first column\n",
    "fixed_columns = [berlin_onehot.columns[-1]] + list(berlin_onehot.columns[:-1])\n",
    "berlin_onehot = berlin_onehot[fixed_columns]\n",
    "\n",
    "berlin_grouped = berlin_onehot.groupby('Borough').mean().reset_index()"
   ]
  },
  {
   "cell_type": "markdown",
   "metadata": {},
   "source": [
    "#### exploring the most popular venues by integrating the data from Foursquare into a table of most common venues"
   ]
  },
  {
   "cell_type": "code",
   "execution_count": 219,
   "metadata": {},
   "outputs": [
    {
     "data": {
      "text/html": [
       "<div>\n",
       "<style scoped>\n",
       "    .dataframe tbody tr th:only-of-type {\n",
       "        vertical-align: middle;\n",
       "    }\n",
       "\n",
       "    .dataframe tbody tr th {\n",
       "        vertical-align: top;\n",
       "    }\n",
       "\n",
       "    .dataframe thead th {\n",
       "        text-align: right;\n",
       "    }\n",
       "</style>\n",
       "<table border=\"1\" class=\"dataframe\">\n",
       "  <thead>\n",
       "    <tr style=\"text-align: right;\">\n",
       "      <th></th>\n",
       "      <th>Borough</th>\n",
       "      <th>1st Most Common Venue</th>\n",
       "      <th>2nd Most Common Venue</th>\n",
       "      <th>3rd Most Common Venue</th>\n",
       "      <th>4th Most Common Venue</th>\n",
       "      <th>5th Most Common Venue</th>\n",
       "      <th>6th Most Common Venue</th>\n",
       "      <th>7th Most Common Venue</th>\n",
       "      <th>8th Most Common Venue</th>\n",
       "      <th>9th Most Common Venue</th>\n",
       "      <th>10th Most Common Venue</th>\n",
       "    </tr>\n",
       "  </thead>\n",
       "  <tbody>\n",
       "    <tr>\n",
       "      <th>0</th>\n",
       "      <td>Charlottenburg-Wilmersdorf</td>\n",
       "      <td>Automotive Shop</td>\n",
       "      <td>Pet Store</td>\n",
       "      <td>Intersection</td>\n",
       "      <td>Food &amp; Drink Shop</td>\n",
       "      <td>Rest Area</td>\n",
       "      <td>Light Rail Station</td>\n",
       "      <td>Hotel</td>\n",
       "      <td>Steakhouse</td>\n",
       "      <td>Scenic Lookout</td>\n",
       "      <td>Park</td>\n",
       "    </tr>\n",
       "    <tr>\n",
       "      <th>1</th>\n",
       "      <td>Friedrichshain-Kreuzberg</td>\n",
       "      <td>Bar</td>\n",
       "      <td>Café</td>\n",
       "      <td>German Restaurant</td>\n",
       "      <td>Vietnamese Restaurant</td>\n",
       "      <td>Turkish Restaurant</td>\n",
       "      <td>Cocktail Bar</td>\n",
       "      <td>Italian Restaurant</td>\n",
       "      <td>Breakfast Spot</td>\n",
       "      <td>Korean Restaurant</td>\n",
       "      <td>Middle Eastern Restaurant</td>\n",
       "    </tr>\n",
       "    <tr>\n",
       "      <th>2</th>\n",
       "      <td>Lichtenberg</td>\n",
       "      <td>Fast Food Restaurant</td>\n",
       "      <td>Tram Station</td>\n",
       "      <td>Furniture / Home Store</td>\n",
       "      <td>Pool Hall</td>\n",
       "      <td>Supermarket</td>\n",
       "      <td>Hardware Store</td>\n",
       "      <td>Soccer Field</td>\n",
       "      <td>Drugstore</td>\n",
       "      <td>Falafel Restaurant</td>\n",
       "      <td>Farmers Market</td>\n",
       "    </tr>\n",
       "    <tr>\n",
       "      <th>3</th>\n",
       "      <td>Marzahn-Hellersdorf</td>\n",
       "      <td>Stadium</td>\n",
       "      <td>Playground</td>\n",
       "      <td>Athletics &amp; Sports</td>\n",
       "      <td>Soccer Field</td>\n",
       "      <td>Furniture / Home Store</td>\n",
       "      <td>Doner Restaurant</td>\n",
       "      <td>Drugstore</td>\n",
       "      <td>Eastern European Restaurant</td>\n",
       "      <td>Falafel Restaurant</td>\n",
       "      <td>Farmers Market</td>\n",
       "    </tr>\n",
       "    <tr>\n",
       "      <th>4</th>\n",
       "      <td>Mitte</td>\n",
       "      <td>Hotel</td>\n",
       "      <td>Coffee Shop</td>\n",
       "      <td>Café</td>\n",
       "      <td>Italian Restaurant</td>\n",
       "      <td>Bakery</td>\n",
       "      <td>Vietnamese Restaurant</td>\n",
       "      <td>Vegetarian / Vegan Restaurant</td>\n",
       "      <td>Drugstore</td>\n",
       "      <td>Plaza</td>\n",
       "      <td>Gym / Fitness Center</td>\n",
       "    </tr>\n",
       "  </tbody>\n",
       "</table>\n",
       "</div>"
      ],
      "text/plain": [
       "                      Borough 1st Most Common Venue 2nd Most Common Venue  \\\n",
       "0  Charlottenburg-Wilmersdorf       Automotive Shop             Pet Store   \n",
       "1    Friedrichshain-Kreuzberg                   Bar                  Café   \n",
       "2                 Lichtenberg  Fast Food Restaurant          Tram Station   \n",
       "3         Marzahn-Hellersdorf               Stadium            Playground   \n",
       "4                       Mitte                 Hotel           Coffee Shop   \n",
       "\n",
       "    3rd Most Common Venue  4th Most Common Venue   5th Most Common Venue  \\\n",
       "0            Intersection      Food & Drink Shop               Rest Area   \n",
       "1       German Restaurant  Vietnamese Restaurant      Turkish Restaurant   \n",
       "2  Furniture / Home Store              Pool Hall             Supermarket   \n",
       "3      Athletics & Sports           Soccer Field  Furniture / Home Store   \n",
       "4                    Café     Italian Restaurant                  Bakery   \n",
       "\n",
       "   6th Most Common Venue          7th Most Common Venue  \\\n",
       "0     Light Rail Station                          Hotel   \n",
       "1           Cocktail Bar             Italian Restaurant   \n",
       "2         Hardware Store                   Soccer Field   \n",
       "3       Doner Restaurant                      Drugstore   \n",
       "4  Vietnamese Restaurant  Vegetarian / Vegan Restaurant   \n",
       "\n",
       "         8th Most Common Venue 9th Most Common Venue  \\\n",
       "0                   Steakhouse        Scenic Lookout   \n",
       "1               Breakfast Spot     Korean Restaurant   \n",
       "2                    Drugstore    Falafel Restaurant   \n",
       "3  Eastern European Restaurant    Falafel Restaurant   \n",
       "4                    Drugstore                 Plaza   \n",
       "\n",
       "      10th Most Common Venue  \n",
       "0                       Park  \n",
       "1  Middle Eastern Restaurant  \n",
       "2             Farmers Market  \n",
       "3             Farmers Market  \n",
       "4       Gym / Fitness Center  "
      ]
     },
     "execution_count": 219,
     "metadata": {},
     "output_type": "execute_result"
    }
   ],
   "source": [
    "def return_most_common_venues(row, num_top_venues):\n",
    "    row_categories = row.iloc[1:]\n",
    "    row_categories_sorted = row_categories.sort_values(ascending=False)\n",
    "    \n",
    "    return row_categories_sorted.index.values[0:num_top_venues]\n",
    "\n",
    "num_top_venues = 10\n",
    "\n",
    "indicators = ['st', 'nd', 'rd']\n",
    "\n",
    "# create columns according to number of top venues\n",
    "columns = ['Borough']\n",
    "for ind in np.arange(num_top_venues):\n",
    "    try:\n",
    "        columns.append('{}{} Most Common Venue'.format(ind+1, indicators[ind]))\n",
    "    except:\n",
    "        columns.append('{}th Most Common Venue'.format(ind+1))\n",
    "\n",
    "# create a new dataframe\n",
    "neighbourhoods_venues_sorted = pd.DataFrame(columns=columns)\n",
    "neighbourhoods_venues_sorted['Borough'] = berlin_grouped['Borough']\n",
    "\n",
    "for ind in np.arange(berlin_grouped.shape[0]):\n",
    "    neighbourhoods_venues_sorted.iloc[ind, 1:] = return_most_common_venues(berlin_grouped.iloc[ind, :], num_top_venues)\n",
    "\n",
    "neighbourhoods_venues_sorted.head()"
   ]
  },
  {
   "cell_type": "markdown",
   "metadata": {},
   "source": [
    "#### clustering the boroughs according to their most common venue types"
   ]
  },
  {
   "cell_type": "code",
   "execution_count": 214,
   "metadata": {},
   "outputs": [
    {
     "data": {
      "text/plain": [
       "array([1, 1, 7, 5, 1, 6, 4, 0, 2, 1])"
      ]
     },
     "execution_count": 214,
     "metadata": {},
     "output_type": "execute_result"
    }
   ],
   "source": [
    "# set number of clusters\n",
    "kclusters = 8\n",
    "\n",
    "berlin_grouped_clustering = berlin_grouped.drop('Borough', 1)\n",
    "\n",
    "# run k-means clustering\n",
    "kmeans = KMeans(n_clusters=kclusters, random_state=0).fit(berlin_grouped_clustering)\n",
    "\n",
    "# check cluster labels generated for each row in the dataframe\n",
    "kmeans.labels_[0:10] "
   ]
  },
  {
   "cell_type": "code",
   "execution_count": 215,
   "metadata": {},
   "outputs": [],
   "source": [
    "# add clustering labels\n",
    "neighbourhoods_venues_sorted.insert(0, 'Cluster Labels', kmeans.labels_)\n",
    "\n",
    "berlin_merged = data\n",
    "# merge toronto_grouped with toronto_data to add latitude/longitude for each neighborhood\n",
    "berlin_merged = berlin_merged.join(neighbourhoods_venues_sorted.set_index('Borough'), on='Borough')"
   ]
  },
  {
   "cell_type": "code",
   "execution_count": 216,
   "metadata": {},
   "outputs": [],
   "source": [
    "berlin_merged = berlin_merged.dropna()"
   ]
  },
  {
   "cell_type": "markdown",
   "metadata": {},
   "source": [
    "#### creating a map of berlin and its boroughs, clustered by the aforementioned topics"
   ]
  },
  {
   "cell_type": "code",
   "execution_count": 217,
   "metadata": {},
   "outputs": [
    {
     "data": {
      "text/html": [
       "<div style=\"width:100%;\"><div style=\"position:relative;width:100%;height:0;padding-bottom:60%;\"><iframe src=\"data:text/html;charset=utf-8;base64,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\" style=\"position:absolute;width:100%;height:100%;left:0;top:0;border:none !important;\" allowfullscreen webkitallowfullscreen mozallowfullscreen></iframe></div></div>"
      ],
      "text/plain": [
       "<folium.folium.Map at 0x62ac09e358>"
      ]
     },
     "execution_count": 217,
     "metadata": {},
     "output_type": "execute_result"
    }
   ],
   "source": [
    "# create map\n",
    "map_clusters = folium.Map(location=[latitude, longitude], zoom_start=11)\n",
    "\n",
    "# set color scheme for the clusters\n",
    "x = np.arange(kclusters)\n",
    "ys = [i + x + (i*x)**2 for i in range(kclusters)]\n",
    "colors_array = cm.rainbow(np.linspace(0, 1, len(ys)))\n",
    "rainbow = [colors.rgb2hex(i) for i in colors_array]\n",
    "\n",
    "# add markers to the map\n",
    "markers_colors = []\n",
    "for lat, lon, poi, cluster in zip(berlin_merged['Latitude'], berlin_merged['Longitude'], berlin_merged['Borough'], berlin_merged['Cluster Labels']):\n",
    "    label = folium.Popup(str(poi) + ' Cluster ' + str(cluster), parse_html=True)\n",
    "    folium.CircleMarker(\n",
    "        [lat, lon],\n",
    "        radius=5,\n",
    "        popup=label,\n",
    "        color=rainbow[int(cluster)],\n",
    "        fill=True,\n",
    "        fill_color=rainbow[int(cluster)],\n",
    "        fill_opacity=0.7).add_to(map_clusters)\n",
    "       \n",
    "map_clusters"
   ]
  },
  {
   "cell_type": "code",
   "execution_count": null,
   "metadata": {},
   "outputs": [],
   "source": []
  },
  {
   "cell_type": "code",
   "execution_count": null,
   "metadata": {},
   "outputs": [],
   "source": []
  }
 ],
 "metadata": {
  "kernelspec": {
   "display_name": "Python 3",
   "language": "python",
   "name": "python3"
  },
  "language_info": {
   "codemirror_mode": {
    "name": "ipython",
    "version": 3
   },
   "file_extension": ".py",
   "mimetype": "text/x-python",
   "name": "python",
   "nbconvert_exporter": "python",
   "pygments_lexer": "ipython3",
   "version": "3.7.3"
  }
 },
 "nbformat": 4,
 "nbformat_minor": 2
}
