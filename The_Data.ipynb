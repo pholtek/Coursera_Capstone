{
 "cells": [
  {
   "cell_type": "markdown",
   "metadata": {},
   "source": [
    "# Coursera Capstone Project: \n",
    "==========================================\n",
    "# Finding the best spot for opening a beer hall in Berlin, Germany\n",
    "========================================================================================"
   ]
  },
  {
   "cell_type": "markdown",
   "metadata": {},
   "source": [
    " "
   ]
  },
  {
   "cell_type": "markdown",
   "metadata": {},
   "source": [
    "## Description of the data"
   ]
  },
  {
   "cell_type": "markdown",
   "metadata": {},
   "source": [
    "To find the best spot for a beer hall, a range of factors will be gathered from the web, including Foursquare, Wikipedia and data from the 'Deutsches Statistisches Bundesamt'. These factors will then be used to construct clusters of similar neighbourhoods. Using Foursquare, the region with the highest density of bars will be found, indicating a neighbourhood of high profitability for a drinking business. Out of the cluster this neighbourhood belongs to, the neighbourhood with the lowest bar density will be chosen as the potentially most promising neighbourhood.\n",
    "\n",
    "Data obtainable from Wikipedia and the 'Deutsches Statistisches Bundesamt:\n",
    "- total population \n",
    "- area\n",
    "- population metrics such as age, nationality, religion, income\n",
    "\n",
    "Data obtainable from Foursquare:\n",
    "- bar and cafe locations in each neighbourhood. will be normalized to total population"
   ]
  },
  {
   "cell_type": "code",
   "execution_count": null,
   "metadata": {},
   "outputs": [],
   "source": []
  }
 ],
 "metadata": {
  "kernelspec": {
   "display_name": "Python 3",
   "language": "python",
   "name": "python3"
  },
  "language_info": {
   "codemirror_mode": {
    "name": "ipython",
    "version": 3
   },
   "file_extension": ".py",
   "mimetype": "text/x-python",
   "name": "python",
   "nbconvert_exporter": "python",
   "pygments_lexer": "ipython3",
   "version": "3.7.3"
  }
 },
 "nbformat": 4,
 "nbformat_minor": 2
}
